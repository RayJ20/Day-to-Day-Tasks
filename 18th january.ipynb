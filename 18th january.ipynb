{
 "cells": [
  {
   "cell_type": "code",
   "execution_count": 1,
   "id": "229e8f81",
   "metadata": {},
   "outputs": [],
   "source": [
    "arr=[1,2,3,4,6,7,5,3]\n",
    "arr.sort()"
   ]
  },
  {
   "cell_type": "code",
   "execution_count": 2,
   "id": "59817d5f",
   "metadata": {},
   "outputs": [
    {
     "data": {
      "text/plain": [
       "6"
      ]
     },
     "execution_count": 2,
     "metadata": {},
     "output_type": "execute_result"
    }
   ],
   "source": [
    "#Finding second highest\n",
    "arr[len(arr)-2]"
   ]
  },
  {
   "cell_type": "code",
   "execution_count": 3,
   "id": "ed97082d",
   "metadata": {},
   "outputs": [
    {
     "data": {
      "text/plain": [
       "array([7., 6., 5., 4., 3., 2., 1.])"
      ]
     },
     "execution_count": 3,
     "metadata": {},
     "output_type": "execute_result"
    }
   ],
   "source": [
    "#converting list into array\n",
    "import numpy as np\n",
    "a=[1,2,3,4,5,6,7]\n",
    "a."
   ]
  },
  {
   "cell_type": "code",
   "execution_count": null,
   "id": "f839dbf5",
   "metadata": {},
   "outputs": [],
   "source": []
  },
  {
   "cell_type": "code",
   "execution_count": 4,
   "id": "356b6352",
   "metadata": {},
   "outputs": [
    {
     "name": "stdout",
     "output_type": "stream",
     "text": [
      "P\n"
     ]
    }
   ],
   "source": [
    "s=\"07:05:45PM\"\n",
    "print(s[8])\n"
   ]
  },
  {
   "cell_type": "code",
   "execution_count": 5,
   "id": "5e73147e",
   "metadata": {},
   "outputs": [
    {
     "data": {
      "text/plain": [
       "'burger'"
      ]
     },
     "execution_count": 5,
     "metadata": {},
     "output_type": "execute_result"
    }
   ],
   "source": [
    "import random\n",
    "food=[\"pizza\",\"burger\",\"ketchup\"]\n",
    "b=random.choice(food)\n",
    "b"
   ]
  },
  {
   "cell_type": "code",
   "execution_count": 6,
   "id": "c53bd12a",
   "metadata": {},
   "outputs": [
    {
     "name": "stdout",
     "output_type": "stream",
     "text": [
      "Enter a choice(rock,paper,scissors:)rock\n",
      "You choose rock, computer chose paper\n",
      "Computer Wins\n",
      "None\n"
     ]
    }
   ],
   "source": [
    "#stone paper scissor game\n",
    "import random\n",
    "\n",
    "def get_choices():\n",
    "    player_choice=input(\"Enter a choice(rock,paper,scissors:)\")\n",
    "    options=[\"rock\",\"paper\",\"scissors\"]\n",
    "    computer_choice=random.choice(options)\n",
    "    choices={\"player\":player_choice,\"computer\":computer_choice}\n",
    "    return choices\n",
    "\n",
    "def check_win(player,computer):\n",
    "    print(f\"You choose {player}, computer chose {computer}\")\n",
    "    if player==computer:\n",
    "          print (\"It's a tie\")\n",
    "    if player==\"rock\":\n",
    "          if computer==\"paper\":\n",
    "              print (\"Computer Wins\")\n",
    "          else:\n",
    "              print (\"You Win\")\n",
    "    elif player==\"paper\":\n",
    "          if computer==\"rock\":\n",
    "              print (\"You Win\")\n",
    "          else:\n",
    "              print (\"Computer wins\")\n",
    "    else:\n",
    "          if computer==\"rock\":\n",
    "              print (\"Computer Wins\")\n",
    "          else:\n",
    "              print (\"You Win\")\n",
    "                \n",
    "choices=get_choices()\n",
    "result=check_win(choices[\"player\"],choices[\"computer\"])\n",
    "print(result)"
   ]
  },
  {
   "cell_type": "code",
   "execution_count": null,
   "id": "69d955bd",
   "metadata": {},
   "outputs": [],
   "source": []
  },
  {
   "cell_type": "code",
   "execution_count": 7,
   "id": "5203b2fa",
   "metadata": {},
   "outputs": [
    {
     "name": "stdout",
     "output_type": "stream",
     "text": [
      "[1, 2, 3, 4]\n"
     ]
    }
   ],
   "source": [
    "b=[1,2,3]\n",
    "b.append(4)\n",
    "print(b)"
   ]
  },
  {
   "cell_type": "code",
   "execution_count": 8,
   "id": "6e6a7685",
   "metadata": {},
   "outputs": [
    {
     "name": "stdout",
     "output_type": "stream",
     "text": [
      "2 3\n",
      "2 4\n",
      "16 32 96\n",
      "3\n"
     ]
    }
   ],
   "source": [
    "#!/bin/python3\n",
    "\n",
    "import math\n",
    "import os\n",
    "import random\n",
    "import re\n",
    "import sys\n",
    "\n",
    "#\n",
    "# Complete the 'getTotalX' function below.\n",
    "#\n",
    "# The function is expected to return an INTEGER.\n",
    "# The function accepts following parameters:\n",
    "#  1. INTEGER_ARRAY a\n",
    "#  2. INTEGER_ARRAY b\n",
    "#\n",
    "\n",
    "def getTotalX(arr, brr):\n",
    "    # Write your code here\n",
    "    a=[]\n",
    "    c=0\n",
    "    d=0\n",
    "    e=0\n",
    "    for i in range(1, brr[0]+1):\n",
    "        for j in range(0, n):\n",
    "            if i% arr[j]==0:\n",
    "                c= c+1          \n",
    "        if (c==n):\n",
    "            a.append(i)\n",
    "        c=0\n",
    "    for x in range(0, len(a)):\n",
    "        for y in range(0, m):\n",
    "            if brr[y]% a[x]==0:\n",
    "                d=d+1\n",
    "        if d==m:\n",
    "            e=e+1\n",
    "        d=0\n",
    "    \n",
    "    print(e)\n",
    "                \n",
    "        \n",
    "\n",
    "if __name__ == '__main__':\n",
    "    \n",
    "\n",
    "    first_multiple_input = input().rstrip().split()\n",
    "\n",
    "    n = int(first_multiple_input[0])\n",
    "\n",
    "    m = int(first_multiple_input[1])\n",
    "\n",
    "    arr = list(map(int, input().rstrip().split()))\n",
    "\n",
    "    brr = list(map(int, input().rstrip().split()))\n",
    "\n",
    "    total = getTotalX(arr, brr)\n",
    "\n",
    "    \n"
   ]
  },
  {
   "cell_type": "code",
   "execution_count": 9,
   "id": "14d5cac7",
   "metadata": {},
   "outputs": [
    {
     "data": {
      "text/plain": [
       "[25, 25, 25]"
      ]
     },
     "execution_count": 9,
     "metadata": {},
     "output_type": "execute_result"
    }
   ],
   "source": [
    "s={\"Karan\":[25,25,25],\"Arjun\":[25,26,27],\"Ram\":[25,26,26]}\n",
    "s.keys()\n",
    "s.values()\n",
    "s.get(\"Karan\")\n"
   ]
  },
  {
   "cell_type": "code",
   "execution_count": 20,
   "id": "c442b0e1",
   "metadata": {},
   "outputs": [
    {
     "data": {
      "text/plain": [
       "int"
      ]
     },
     "execution_count": 20,
     "metadata": {},
     "output_type": "execute_result"
    }
   ],
   "source": [
    "s=2\n",
    "type(s)\n"
   ]
  },
  {
   "cell_type": "code",
   "execution_count": 43,
   "id": "c79f9e68",
   "metadata": {},
   "outputs": [
    {
     "data": {
      "text/plain": [
       "30.0"
      ]
     },
     "execution_count": 43,
     "metadata": {},
     "output_type": "execute_result"
    }
   ],
   "source": [
    "records=[[\"chi\",20.0],[\"alpha\",30.0],[\"beta\",30.0]]\n",
    "records[2][1]"
   ]
  },
  {
   "cell_type": "code",
   "execution_count": 44,
   "id": "764984c1",
   "metadata": {},
   "outputs": [],
   "source": [
    "a=[]\n",
    "b=2.0\n",
    "a.append(b)"
   ]
  },
  {
   "cell_type": "code",
   "execution_count": 45,
   "id": "fe24c667",
   "metadata": {},
   "outputs": [
    {
     "data": {
      "text/plain": [
       "[2.0]"
      ]
     },
     "execution_count": 45,
     "metadata": {},
     "output_type": "execute_result"
    }
   ],
   "source": [
    "a"
   ]
  },
  {
   "cell_type": "code",
   "execution_count": 46,
   "id": "5eee251e",
   "metadata": {},
   "outputs": [
    {
     "name": "stdout",
     "output_type": "stream",
     "text": [
      "3\n",
      "chi\n",
      "20.0\n",
      "alpha\n",
      "30.0\n",
      "beta\n",
      "30.0\n"
     ]
    }
   ],
   "source": [
    "if __name__ == '__main__':\n",
    "    for m in range(int(input())):\n",
    "        name = input()\n",
    "        score = float(input())"
   ]
  },
  {
   "cell_type": "code",
   "execution_count": 49,
   "id": "9ddded72",
   "metadata": {},
   "outputs": [
    {
     "data": {
      "text/plain": [
       "30.0"
      ]
     },
     "execution_count": 49,
     "metadata": {},
     "output_type": "execute_result"
    }
   ],
   "source": [
    "score"
   ]
  },
  {
   "cell_type": "code",
   "execution_count": 55,
   "id": "95fb6601",
   "metadata": {},
   "outputs": [
    {
     "name": "stdout",
     "output_type": "stream",
     "text": [
      "2\n",
      "a\n"
     ]
    },
    {
     "ename": "IndexError",
     "evalue": "list index out of range",
     "output_type": "error",
     "traceback": [
      "\u001b[1;31m---------------------------------------------------------------------------\u001b[0m",
      "\u001b[1;31mIndexError\u001b[0m                                Traceback (most recent call last)",
      "Cell \u001b[1;32mIn[55], line 5\u001b[0m\n\u001b[0;32m      3\u001b[0m k\u001b[38;5;241m=\u001b[39m[]\n\u001b[0;32m      4\u001b[0m \u001b[38;5;28;01mfor\u001b[39;00m i \u001b[38;5;129;01min\u001b[39;00m \u001b[38;5;28mrange\u001b[39m(\u001b[38;5;241m0\u001b[39m,n):\n\u001b[1;32m----> 5\u001b[0m     k[i][\u001b[38;5;241m1\u001b[39m]\u001b[38;5;241m=\u001b[39m\u001b[38;5;28mstr\u001b[39m(\u001b[38;5;28minput\u001b[39m())\n\u001b[0;32m      6\u001b[0m     k[i][\u001b[38;5;241m2\u001b[39m]\u001b[38;5;241m=\u001b[39m\u001b[38;5;28mint\u001b[39m(\u001b[38;5;28minput\u001b[39m())\n\u001b[0;32m      8\u001b[0m \u001b[38;5;28mprint\u001b[39m(k)\n",
      "\u001b[1;31mIndexError\u001b[0m: list index out of range"
     ]
    }
   ],
   "source": [
    "if __name__ == '__main__':\n",
    "    n = int(input())\n",
    "    k=[]\n",
    "    for i in range(0,n):\n",
    "        k[i][1]=str(input())\n",
    "        k[i][2]=int(input())\n",
    "        \n",
    "    print(k)"
   ]
  },
  {
   "cell_type": "code",
   "execution_count": 60,
   "id": "3a28a02a",
   "metadata": {},
   "outputs": [
    {
     "data": {
      "text/plain": [
       "'B'"
      ]
     },
     "execution_count": 60,
     "metadata": {},
     "output_type": "execute_result"
    }
   ],
   "source": [
    "s=\"abcdef\"\n",
    "s[1].upper()\n"
   ]
  },
  {
   "cell_type": "code",
   "execution_count": 74,
   "id": "67d6c712",
   "metadata": {},
   "outputs": [
    {
     "name": "stdout",
     "output_type": "stream",
     "text": [
      "[[1, 2, 3, 4, 5, 6], [1, 2, 3, 4, 5, 6], [1, 2, 3, 4, 5, 6], [1, 2, 3, 4, 5, 6], [1, 2, 3, 4, 5, 6], [1, 2, 3, 4, 5, 6]]\n",
      "[1, 2, 3, 2, 1, 2, 3]\n",
      "[2, 3, 4, 3, 2, 3, 4]\n",
      "[3, 4, 5, 4, 3, 4, 5]\n",
      "[4, 5, 6, 5, 4, 5, 6]\n",
      "[1, 2, 3, 2, 1, 2, 3]\n",
      "[2, 3, 4, 3, 2, 3, 4]\n",
      "[3, 4, 5, 4, 3, 4, 5]\n",
      "[4, 5, 6, 5, 4, 5, 6]\n",
      "[1, 2, 3, 2, 1, 2, 3]\n",
      "[2, 3, 4, 3, 2, 3, 4]\n",
      "[3, 4, 5, 4, 3, 4, 5]\n",
      "[4, 5, 6, 5, 4, 5, 6]\n",
      "[1, 2, 3, 2, 1, 2, 3]\n",
      "[2, 3, 4, 3, 2, 3, 4]\n",
      "[3, 4, 5, 4, 3, 4, 5]\n",
      "[4, 5, 6, 5, 4, 5, 6]\n",
      "35\n"
     ]
    }
   ],
   "source": [
    "import numpy as np\n",
    "list2D = (np.random.random((6,6))).tolist()\n",
    "\n",
    "def hourglassSum(arr):\n",
    "    # Write your code here\n",
    "    a=arr\n",
    "    b=[]\n",
    "    d=[]\n",
    "    c=0\n",
    "    for i in range(4):\n",
    "        for k in range(4):\n",
    "            for l in range(k,k+3):\n",
    "                if l==k+1:\n",
    "                    b.append(a[l][l])\n",
    "                else:\n",
    "                    for j in range(k,k+3):\n",
    "                        b.append(a[k][j])\n",
    "            for n in range(len(b)):\n",
    "                c=c+b[n]\n",
    "            d.append(c)\n",
    "            print(b)\n",
    "            c=0\n",
    "            b=[]\n",
    "    d.sort()\n",
    "    d.reverse()\n",
    "    print(d[0])\n",
    "\n",
    "if __name__ == '__main__':\n",
    "    list2D = [[1,2,3,4,5,6],[1,2,3,4,5,6],[1,2,3,4,5,6],[1,2,3,4,5,6],[1,2,3,4,5,6],[1,2,3,4,5,6]]\n",
    "    print(list2D)\n",
    "    result=hourglassSum(list2D)"
   ]
  },
  {
   "cell_type": "code",
   "execution_count": 82,
   "id": "af96ba74",
   "metadata": {},
   "outputs": [
    {
     "name": "stdout",
     "output_type": "stream",
     "text": [
      "22\n"
     ]
    }
   ],
   "source": [
    "s='saveChangesInTheEditor'\n",
    "a=[]\n",
    "b=0\n",
    "for i in range(0,len(s)):\n",
    "    if s[i].upper():\n",
    "        a.append(s[b:i-1])\n",
    "        b=i\n",
    "print(len(a))"
   ]
  },
  {
   "cell_type": "code",
   "execution_count": null,
   "id": "d95f80b0",
   "metadata": {},
   "outputs": [],
   "source": []
  }
 ],
 "metadata": {
  "kernelspec": {
   "display_name": "Python 3 (ipykernel)",
   "language": "python",
   "name": "python3"
  },
  "language_info": {
   "codemirror_mode": {
    "name": "ipython",
    "version": 3
   },
   "file_extension": ".py",
   "mimetype": "text/x-python",
   "name": "python",
   "nbconvert_exporter": "python",
   "pygments_lexer": "ipython3",
   "version": "3.11.5"
  }
 },
 "nbformat": 4,
 "nbformat_minor": 5
}
